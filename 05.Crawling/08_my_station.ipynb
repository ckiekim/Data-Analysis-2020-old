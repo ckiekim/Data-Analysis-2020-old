{
 "metadata": {
  "language_info": {
   "codemirror_mode": {
    "name": "ipython",
    "version": 3
   },
   "file_extension": ".py",
   "mimetype": "text/x-python",
   "name": "python",
   "nbconvert_exporter": "python",
   "pygments_lexer": "ipython3",
   "version": "3.8.3-final"
  },
  "orig_nbformat": 2,
  "kernelspec": {
   "name": "python3",
   "display_name": "Python 3"
  }
 },
 "nbformat": 4,
 "nbformat_minor": 2,
 "cells": [
  {
   "source": [
    "# 2020.11.24 과제\n",
    "### 내 주유소 지도위에 찍고 휘발유 가격 보여주기"
   ],
   "cell_type": "markdown",
   "metadata": {}
  },
  {
   "cell_type": "code",
   "execution_count": 1,
   "metadata": {},
   "outputs": [],
   "source": [
    "import time\n",
    "from selenium import webdriver\n",
    "from selenium.webdriver.common.keys import Keys"
   ]
  },
  {
   "cell_type": "code",
   "execution_count": 2,
   "metadata": {},
   "outputs": [],
   "source": [
    "import requests\n",
    "from urllib.parse import quote, unquote\n",
    "import pandas as pd"
   ]
  },
  {
   "cell_type": "code",
   "execution_count": 3,
   "metadata": {},
   "outputs": [],
   "source": [
    "key_fd = open('../06.RestAPI/roadapikey.txt', mode='r')\n",
    "roadapi_key = key_fd.read(100)\n",
    "key_fd.close()"
   ]
  },
  {
   "cell_type": "code",
   "execution_count": 8,
   "metadata": {},
   "outputs": [
    {
     "output_type": "execute_result",
     "data": {
      "text/plain": [
       "'https://www.juso.go.kr/addrlink/addrLinkApi.do?confmKey=U01TX0FVVEgyMDIwMTExOTEwMjMzNTExMDQzNzg=&currentPage=1&countPerPage=10&keyword=%EC%84%B1%EB%B3%B5%EB%8F%99%20%EB%A1%AF%EB%8D%B0%EC%BA%90%EC%8A%AC%EA%B3%A8%EB%93%9C%ED%83%80%EC%9A%B4&resultType=json'"
      ]
     },
     "metadata": {},
     "execution_count": 8
    }
   ],
   "source": [
    "road_url = 'https://www.juso.go.kr/addrlink/addrLinkApi.do'\n",
    "my_home = '성복동 롯데캐슬골드타운'\n",
    "url = f'{road_url}?confmKey={roadapi_key}&currentPage=1&countPerPage=10&keyword={quote(my_home)}&resultType=json'\n",
    "url"
   ]
  },
  {
   "cell_type": "code",
   "execution_count": 10,
   "metadata": {},
   "outputs": [
    {
     "output_type": "execute_result",
     "data": {
      "text/plain": [
       "'경기도 용인시 수지구 성복2로 10 (성복동, 성복역롯데캐슬골드타운)'"
      ]
     },
     "metadata": {},
     "execution_count": 10
    }
   ],
   "source": [
    "result = requests.get(url).json()\n",
    "my_addr = result['results']['juso'][1]['roadAddr']\n",
    "my_addr"
   ]
  },
  {
   "cell_type": "code",
   "execution_count": 23,
   "metadata": {},
   "outputs": [
    {
     "output_type": "execute_result",
     "data": {
      "text/plain": [
       "   광역      지역             상호                              주소\n",
       "0  경기  용인시수지구  서창산업㈜죽전(상)주유소  경기 용인시 수지구 용구대로2771번길 37 (죽전동)\n",
       "1  경기  용인시수지구     풍덕천Self주유소      경기 용인시 수지구 포은대로 402 (풍덕천동)\n",
       "2  경기  용인시수지구  대명에너지 광교셀프직영점        경기 용인시 수지구 포은대로 58 (상현동)\n",
       "3  경기  용인시수지구          반도주유소   경기 용인시 수지구 신수로683번길 11 (풍덕천동)\n",
       "4  경기  용인시수지구  지에스칼텍스㈜ 죽전주유소      경기 용인시 수지구 용구대로 2782 (죽전동)"
      ],
      "text/html": "<div>\n<style scoped>\n    .dataframe tbody tr th:only-of-type {\n        vertical-align: middle;\n    }\n\n    .dataframe tbody tr th {\n        vertical-align: top;\n    }\n\n    .dataframe thead th {\n        text-align: right;\n    }\n</style>\n<table border=\"1\" class=\"dataframe\">\n  <thead>\n    <tr style=\"text-align: right;\">\n      <th></th>\n      <th>광역</th>\n      <th>지역</th>\n      <th>상호</th>\n      <th>주소</th>\n    </tr>\n  </thead>\n  <tbody>\n    <tr>\n      <th>0</th>\n      <td>경기</td>\n      <td>용인시수지구</td>\n      <td>서창산업㈜죽전(상)주유소</td>\n      <td>경기 용인시 수지구 용구대로2771번길 37 (죽전동)</td>\n    </tr>\n    <tr>\n      <th>1</th>\n      <td>경기</td>\n      <td>용인시수지구</td>\n      <td>풍덕천Self주유소</td>\n      <td>경기 용인시 수지구 포은대로 402 (풍덕천동)</td>\n    </tr>\n    <tr>\n      <th>2</th>\n      <td>경기</td>\n      <td>용인시수지구</td>\n      <td>대명에너지 광교셀프직영점</td>\n      <td>경기 용인시 수지구 포은대로 58 (상현동)</td>\n    </tr>\n    <tr>\n      <th>3</th>\n      <td>경기</td>\n      <td>용인시수지구</td>\n      <td>반도주유소</td>\n      <td>경기 용인시 수지구 신수로683번길 11 (풍덕천동)</td>\n    </tr>\n    <tr>\n      <th>4</th>\n      <td>경기</td>\n      <td>용인시수지구</td>\n      <td>지에스칼텍스㈜ 죽전주유소</td>\n      <td>경기 용인시 수지구 용구대로 2782 (죽전동)</td>\n    </tr>\n  </tbody>\n</table>\n</div>"
     },
     "metadata": {},
     "execution_count": 23
    }
   ],
   "source": [
    "df = pd.read_csv('주유소.csv')\n",
    "df.head(5)"
   ]
  },
  {
   "cell_type": "code",
   "execution_count": 28,
   "metadata": {},
   "outputs": [
    {
     "output_type": "stream",
     "name": "stdout",
     "text": [
      "1245\n",
      "1298\n",
      "1299\n"
     ]
    },
    {
     "output_type": "error",
     "ename": "UnexpectedAlertPresentException",
     "evalue": "Alert Text: 시군구를 선택하여주세요\nMessage: unexpected alert open: {Alert text : 시군구를 선택하여주세요}\n  (Session info: chrome=87.0.4280.66)\n",
     "traceback": [
      "\u001b[1;31m---------------------------------------------------------------------------\u001b[0m",
      "\u001b[1;31mUnexpectedAlertPresentException\u001b[0m           Traceback (most recent call last)",
      "\u001b[1;32m<ipython-input-28-abc312136b4b>\u001b[0m in \u001b[0;36m<module>\u001b[1;34m\u001b[0m\n\u001b[0;32m     14\u001b[0m     \u001b[0mdriver\u001b[0m\u001b[1;33m.\u001b[0m\u001b[0mfind_element_by_xpath\u001b[0m\u001b[1;33m(\u001b[0m\u001b[1;34m'//*[@id=\"searRgSelect\"]'\u001b[0m\u001b[1;33m)\u001b[0m\u001b[1;33m.\u001b[0m\u001b[0mclick\u001b[0m\u001b[1;33m(\u001b[0m\u001b[1;33m)\u001b[0m\u001b[1;33m\u001b[0m\u001b[1;33m\u001b[0m\u001b[0m\n\u001b[0;32m     15\u001b[0m     \u001b[0mtime\u001b[0m\u001b[1;33m.\u001b[0m\u001b[0msleep\u001b[0m\u001b[1;33m(\u001b[0m\u001b[1;36m8\u001b[0m\u001b[1;33m)\u001b[0m\u001b[1;33m\u001b[0m\u001b[1;33m\u001b[0m\u001b[0m\n\u001b[1;32m---> 16\u001b[1;33m     \u001b[0mdriver\u001b[0m\u001b[1;33m.\u001b[0m\u001b[0mfind_element_by_xpath\u001b[0m\u001b[1;33m(\u001b[0m\u001b[1;34m'//*[@id=\"SEARCH_MOD4\"]'\u001b[0m\u001b[1;33m)\u001b[0m\u001b[1;33m.\u001b[0m\u001b[0mclick\u001b[0m\u001b[1;33m(\u001b[0m\u001b[1;33m)\u001b[0m\u001b[1;33m\u001b[0m\u001b[1;33m\u001b[0m\u001b[0m\n\u001b[0m\u001b[0;32m     17\u001b[0m     \u001b[0mtime\u001b[0m\u001b[1;33m.\u001b[0m\u001b[0msleep\u001b[0m\u001b[1;33m(\u001b[0m\u001b[1;36m8\u001b[0m\u001b[1;33m)\u001b[0m\u001b[1;33m\u001b[0m\u001b[1;33m\u001b[0m\u001b[0m\n\u001b[0;32m     18\u001b[0m     \u001b[0mstation_name\u001b[0m \u001b[1;33m=\u001b[0m \u001b[0mdriver\u001b[0m\u001b[1;33m.\u001b[0m\u001b[0mfind_element_by_id\u001b[0m\u001b[1;33m(\u001b[0m\u001b[1;34m'OS_NM'\u001b[0m\u001b[1;33m)\u001b[0m\u001b[1;33m\u001b[0m\u001b[1;33m\u001b[0m\u001b[0m\n",
      "\u001b[1;32mC:\\ProgramData\\Anaconda3\\lib\\site-packages\\selenium\\webdriver\\remote\\webdriver.py\u001b[0m in \u001b[0;36mfind_element_by_xpath\u001b[1;34m(self, xpath)\u001b[0m\n\u001b[0;32m    392\u001b[0m             \u001b[0melement\u001b[0m \u001b[1;33m=\u001b[0m \u001b[0mdriver\u001b[0m\u001b[1;33m.\u001b[0m\u001b[0mfind_element_by_xpath\u001b[0m\u001b[1;33m(\u001b[0m\u001b[1;34m'//div/td[1]'\u001b[0m\u001b[1;33m)\u001b[0m\u001b[1;33m\u001b[0m\u001b[1;33m\u001b[0m\u001b[0m\n\u001b[0;32m    393\u001b[0m         \"\"\"\n\u001b[1;32m--> 394\u001b[1;33m         \u001b[1;32mreturn\u001b[0m \u001b[0mself\u001b[0m\u001b[1;33m.\u001b[0m\u001b[0mfind_element\u001b[0m\u001b[1;33m(\u001b[0m\u001b[0mby\u001b[0m\u001b[1;33m=\u001b[0m\u001b[0mBy\u001b[0m\u001b[1;33m.\u001b[0m\u001b[0mXPATH\u001b[0m\u001b[1;33m,\u001b[0m \u001b[0mvalue\u001b[0m\u001b[1;33m=\u001b[0m\u001b[0mxpath\u001b[0m\u001b[1;33m)\u001b[0m\u001b[1;33m\u001b[0m\u001b[1;33m\u001b[0m\u001b[0m\n\u001b[0m\u001b[0;32m    395\u001b[0m \u001b[1;33m\u001b[0m\u001b[0m\n\u001b[0;32m    396\u001b[0m     \u001b[1;32mdef\u001b[0m \u001b[0mfind_elements_by_xpath\u001b[0m\u001b[1;33m(\u001b[0m\u001b[0mself\u001b[0m\u001b[1;33m,\u001b[0m \u001b[0mxpath\u001b[0m\u001b[1;33m)\u001b[0m\u001b[1;33m:\u001b[0m\u001b[1;33m\u001b[0m\u001b[1;33m\u001b[0m\u001b[0m\n",
      "\u001b[1;32mC:\\ProgramData\\Anaconda3\\lib\\site-packages\\selenium\\webdriver\\remote\\webdriver.py\u001b[0m in \u001b[0;36mfind_element\u001b[1;34m(self, by, value)\u001b[0m\n\u001b[0;32m    974\u001b[0m                 \u001b[0mby\u001b[0m \u001b[1;33m=\u001b[0m \u001b[0mBy\u001b[0m\u001b[1;33m.\u001b[0m\u001b[0mCSS_SELECTOR\u001b[0m\u001b[1;33m\u001b[0m\u001b[1;33m\u001b[0m\u001b[0m\n\u001b[0;32m    975\u001b[0m                 \u001b[0mvalue\u001b[0m \u001b[1;33m=\u001b[0m \u001b[1;34m'[name=\"%s\"]'\u001b[0m \u001b[1;33m%\u001b[0m \u001b[0mvalue\u001b[0m\u001b[1;33m\u001b[0m\u001b[1;33m\u001b[0m\u001b[0m\n\u001b[1;32m--> 976\u001b[1;33m         return self.execute(Command.FIND_ELEMENT, {\n\u001b[0m\u001b[0;32m    977\u001b[0m             \u001b[1;34m'using'\u001b[0m\u001b[1;33m:\u001b[0m \u001b[0mby\u001b[0m\u001b[1;33m,\u001b[0m\u001b[1;33m\u001b[0m\u001b[1;33m\u001b[0m\u001b[0m\n\u001b[0;32m    978\u001b[0m             'value': value})['value']\n",
      "\u001b[1;32mC:\\ProgramData\\Anaconda3\\lib\\site-packages\\selenium\\webdriver\\remote\\webdriver.py\u001b[0m in \u001b[0;36mexecute\u001b[1;34m(self, driver_command, params)\u001b[0m\n\u001b[0;32m    319\u001b[0m         \u001b[0mresponse\u001b[0m \u001b[1;33m=\u001b[0m \u001b[0mself\u001b[0m\u001b[1;33m.\u001b[0m\u001b[0mcommand_executor\u001b[0m\u001b[1;33m.\u001b[0m\u001b[0mexecute\u001b[0m\u001b[1;33m(\u001b[0m\u001b[0mdriver_command\u001b[0m\u001b[1;33m,\u001b[0m \u001b[0mparams\u001b[0m\u001b[1;33m)\u001b[0m\u001b[1;33m\u001b[0m\u001b[1;33m\u001b[0m\u001b[0m\n\u001b[0;32m    320\u001b[0m         \u001b[1;32mif\u001b[0m \u001b[0mresponse\u001b[0m\u001b[1;33m:\u001b[0m\u001b[1;33m\u001b[0m\u001b[1;33m\u001b[0m\u001b[0m\n\u001b[1;32m--> 321\u001b[1;33m             \u001b[0mself\u001b[0m\u001b[1;33m.\u001b[0m\u001b[0merror_handler\u001b[0m\u001b[1;33m.\u001b[0m\u001b[0mcheck_response\u001b[0m\u001b[1;33m(\u001b[0m\u001b[0mresponse\u001b[0m\u001b[1;33m)\u001b[0m\u001b[1;33m\u001b[0m\u001b[1;33m\u001b[0m\u001b[0m\n\u001b[0m\u001b[0;32m    322\u001b[0m             response['value'] = self._unwrap_value(\n\u001b[0;32m    323\u001b[0m                 response.get('value', None))\n",
      "\u001b[1;32mC:\\ProgramData\\Anaconda3\\lib\\site-packages\\selenium\\webdriver\\remote\\errorhandler.py\u001b[0m in \u001b[0;36mcheck_response\u001b[1;34m(self, response)\u001b[0m\n\u001b[0;32m    239\u001b[0m             \u001b[1;32melif\u001b[0m \u001b[1;34m'alert'\u001b[0m \u001b[1;32min\u001b[0m \u001b[0mvalue\u001b[0m\u001b[1;33m:\u001b[0m\u001b[1;33m\u001b[0m\u001b[1;33m\u001b[0m\u001b[0m\n\u001b[0;32m    240\u001b[0m                 \u001b[0malert_text\u001b[0m \u001b[1;33m=\u001b[0m \u001b[0mvalue\u001b[0m\u001b[1;33m[\u001b[0m\u001b[1;34m'alert'\u001b[0m\u001b[1;33m]\u001b[0m\u001b[1;33m.\u001b[0m\u001b[0mget\u001b[0m\u001b[1;33m(\u001b[0m\u001b[1;34m'text'\u001b[0m\u001b[1;33m)\u001b[0m\u001b[1;33m\u001b[0m\u001b[1;33m\u001b[0m\u001b[0m\n\u001b[1;32m--> 241\u001b[1;33m             \u001b[1;32mraise\u001b[0m \u001b[0mexception_class\u001b[0m\u001b[1;33m(\u001b[0m\u001b[0mmessage\u001b[0m\u001b[1;33m,\u001b[0m \u001b[0mscreen\u001b[0m\u001b[1;33m,\u001b[0m \u001b[0mstacktrace\u001b[0m\u001b[1;33m,\u001b[0m \u001b[0malert_text\u001b[0m\u001b[1;33m)\u001b[0m\u001b[1;33m\u001b[0m\u001b[1;33m\u001b[0m\u001b[0m\n\u001b[0m\u001b[0;32m    242\u001b[0m         \u001b[1;32mraise\u001b[0m \u001b[0mexception_class\u001b[0m\u001b[1;33m(\u001b[0m\u001b[0mmessage\u001b[0m\u001b[1;33m,\u001b[0m \u001b[0mscreen\u001b[0m\u001b[1;33m,\u001b[0m \u001b[0mstacktrace\u001b[0m\u001b[1;33m)\u001b[0m\u001b[1;33m\u001b[0m\u001b[1;33m\u001b[0m\u001b[0m\n\u001b[0;32m    243\u001b[0m \u001b[1;33m\u001b[0m\u001b[0m\n",
      "\u001b[1;31mUnexpectedAlertPresentException\u001b[0m: Alert Text: 시군구를 선택하여주세요\nMessage: unexpected alert open: {Alert text : 시군구를 선택하여주세요}\n  (Session info: chrome=87.0.4280.66)\n"
     ]
    }
   ],
   "source": [
    "driver = webdriver.Chrome('./chromedriver')\n",
    "#driver.maximize_window()\n",
    "driver.get('https://www.opinet.co.kr/user/main/mainView.do')\n",
    "time.sleep(1)\n",
    "driver.find_element_by_css_selector('.ic_m1').click()\n",
    "time.sleep(2)\n",
    "\n",
    "addr_list = []; price_list = []\n",
    "for i in df.index:\n",
    "    driver.find_element_by_xpath('//*[@id=\"SIDO_NM0\"]').send_keys(df['광역'][i])\n",
    "    time.sleep(2)\n",
    "    driver.find_element_by_xpath('//*[@id=\"SIGUNGU_NM0\"]').send_keys(df['지역'][i])\n",
    "    time.sleep(2)\n",
    "    driver.find_element_by_xpath('//*[@id=\"searRgSelect\"]').click()\n",
    "    time.sleep(8)\n",
    "    driver.find_element_by_xpath('//*[@id=\"SEARCH_MOD4\"]').click()\n",
    "    time.sleep(8)\n",
    "    station_name = driver.find_element_by_id('OS_NM')\n",
    "    station_name.clear()\n",
    "    station_name.send_keys(df['상호'][i])\n",
    "    time.sleep(2)\n",
    "    # 조회 버튼 클릭\n",
    "    driver.find_element_by_id('searRgSelect').click()\n",
    "    time.sleep(8)\n",
    "    price = driver.find_element_by_css_selector('.price').text\n",
    "    price_list.append(int(price))\n",
    "    print(price)\n",
    "    # 주유소명 Click\n",
    "    \"\"\" driver.find_element_by_xpath('//*[@id=\"body1\"]/tr/td[1]/a').click()\n",
    "    time.sleep(10)\n",
    "    popup = driver.find_element_by_css_selector('.ollehmap-info-defaultStyle')\n",
    "    addr = popup.find_elements_by_tag_name('li')[1].text[7:]\n",
    "    addr_list.append(addr)\n",
    "    print(addr) \"\"\"\n",
    "    time.sleep(8)"
   ]
  },
  {
   "cell_type": "code",
   "execution_count": 78,
   "metadata": {},
   "outputs": [
    {
     "output_type": "execute_result",
     "data": {
      "text/plain": [
       "         name                        addr  price\n",
       "0       기흥주유소          경기 용인시 기흥구 공세로 173   1242\n",
       "1       미키주유소  경기 용인시 기흥구  용구대로 2469번길 57   1255\n",
       "2     구성그린주유소  경기 용인시 기흥구 용구대로 2421 (마북동)   1265\n",
       "3     보정꽃길주유소   경기 용인시 기흥구 용구대로2469번길 153   1265\n",
       "4  이마트셀프전용주유소  경기 용인시 기흥구 용구대로 2441 (마북동)   1268"
      ],
      "text/html": "<div>\n<style scoped>\n    .dataframe tbody tr th:only-of-type {\n        vertical-align: middle;\n    }\n\n    .dataframe tbody tr th {\n        vertical-align: top;\n    }\n\n    .dataframe thead th {\n        text-align: right;\n    }\n</style>\n<table border=\"1\" class=\"dataframe\">\n  <thead>\n    <tr style=\"text-align: right;\">\n      <th></th>\n      <th>name</th>\n      <th>addr</th>\n      <th>price</th>\n    </tr>\n  </thead>\n  <tbody>\n    <tr>\n      <th>0</th>\n      <td>기흥주유소</td>\n      <td>경기 용인시 기흥구 공세로 173</td>\n      <td>1242</td>\n    </tr>\n    <tr>\n      <th>1</th>\n      <td>미키주유소</td>\n      <td>경기 용인시 기흥구  용구대로 2469번길 57</td>\n      <td>1255</td>\n    </tr>\n    <tr>\n      <th>2</th>\n      <td>구성그린주유소</td>\n      <td>경기 용인시 기흥구 용구대로 2421 (마북동)</td>\n      <td>1265</td>\n    </tr>\n    <tr>\n      <th>3</th>\n      <td>보정꽃길주유소</td>\n      <td>경기 용인시 기흥구 용구대로2469번길 153</td>\n      <td>1265</td>\n    </tr>\n    <tr>\n      <th>4</th>\n      <td>이마트셀프전용주유소</td>\n      <td>경기 용인시 기흥구 용구대로 2441 (마북동)</td>\n      <td>1268</td>\n    </tr>\n  </tbody>\n</table>\n</div>"
     },
     "metadata": {},
     "execution_count": 78
    }
   ],
   "source": [
    "#df['addr'] = addr_list\n",
    "df['price'] = price_list\n",
    "df.head()"
   ]
  },
  {
   "cell_type": "code",
   "execution_count": 79,
   "metadata": {},
   "outputs": [],
   "source": [
    "df.sort_values('price', inplace=True)\n",
    "df.to_csv('station.csv', sep=',', encoding='utf8', index=False)"
   ]
  },
  {
   "source": [
    "### 위도, 경도 정보 구하기"
   ],
   "cell_type": "markdown",
   "metadata": {}
  },
  {
   "cell_type": "code",
   "execution_count": 25,
   "metadata": {},
   "outputs": [],
   "source": [
    "key_fd = open('../06.RestAPI/kakaomapkey.txt', mode='r')\n",
    "kmap_key = key_fd.read(100)\n",
    "key_fd.close()"
   ]
  },
  {
   "cell_type": "code",
   "execution_count": 26,
   "metadata": {},
   "outputs": [
    {
     "output_type": "stream",
     "name": "stdout",
     "text": [
      "37.3112644829202 127.08321416053\n"
     ]
    }
   ],
   "source": [
    "url = 'https://dapi.kakao.com/v2/local/search/address.json?query=' + quote(my_addr)\n",
    "result = requests.get(url,\n",
    "            headers={\"Authorization\": \"KakaoAK \"+kmap_key}).json()\n",
    "my_lat = float(result['documents'][0]['y'])\n",
    "my_lng = float(result['documents'][0]['x'])\n",
    "print(my_lat, my_lng)"
   ]
  },
  {
   "cell_type": "code",
   "execution_count": 3,
   "metadata": {},
   "outputs": [
    {
     "output_type": "execute_result",
     "data": {
      "text/plain": [
       "         name                        addr  price\n",
       "0       기흥주유소          경기 용인시 기흥구 공세로 173   1242\n",
       "1       미키주유소  경기 용인시 기흥구  용구대로 2469번길 57   1255\n",
       "2     구성그린주유소  경기 용인시 기흥구 용구대로 2421 (마북동)   1265\n",
       "3     보정꽃길주유소   경기 용인시 기흥구 용구대로2469번길 153   1265\n",
       "4  이마트셀프전용주유소  경기 용인시 기흥구 용구대로 2441 (마북동)   1268"
      ],
      "text/html": "<div>\n<style scoped>\n    .dataframe tbody tr th:only-of-type {\n        vertical-align: middle;\n    }\n\n    .dataframe tbody tr th {\n        vertical-align: top;\n    }\n\n    .dataframe thead th {\n        text-align: right;\n    }\n</style>\n<table border=\"1\" class=\"dataframe\">\n  <thead>\n    <tr style=\"text-align: right;\">\n      <th></th>\n      <th>name</th>\n      <th>addr</th>\n      <th>price</th>\n    </tr>\n  </thead>\n  <tbody>\n    <tr>\n      <th>0</th>\n      <td>기흥주유소</td>\n      <td>경기 용인시 기흥구 공세로 173</td>\n      <td>1242</td>\n    </tr>\n    <tr>\n      <th>1</th>\n      <td>미키주유소</td>\n      <td>경기 용인시 기흥구  용구대로 2469번길 57</td>\n      <td>1255</td>\n    </tr>\n    <tr>\n      <th>2</th>\n      <td>구성그린주유소</td>\n      <td>경기 용인시 기흥구 용구대로 2421 (마북동)</td>\n      <td>1265</td>\n    </tr>\n    <tr>\n      <th>3</th>\n      <td>보정꽃길주유소</td>\n      <td>경기 용인시 기흥구 용구대로2469번길 153</td>\n      <td>1265</td>\n    </tr>\n    <tr>\n      <th>4</th>\n      <td>이마트셀프전용주유소</td>\n      <td>경기 용인시 기흥구 용구대로 2441 (마북동)</td>\n      <td>1268</td>\n    </tr>\n  </tbody>\n</table>\n</div>"
     },
     "metadata": {},
     "execution_count": 3
    }
   ],
   "source": [
    "df = pd.read_csv('station.csv')\n",
    "df"
   ]
  },
  {
   "cell_type": "code",
   "execution_count": 4,
   "metadata": {},
   "outputs": [],
   "source": [
    "lat_list = []; lng_list = []\n",
    "for i in df.index:\n",
    "    url = 'https://dapi.kakao.com/v2/local/search/address.json?query=' + quote(df.addr[i])\n",
    "    result = requests.get(url,\n",
    "            headers={\"Authorization\": \"KakaoAK \"+kmap_key}).json()\n",
    "    lat = float(result['documents'][0]['y'])\n",
    "    lng = float(result['documents'][0]['x'])\n",
    "    lat_list.append(lat)\n",
    "    lng_list.append(lng)"
   ]
  },
  {
   "cell_type": "code",
   "execution_count": 5,
   "metadata": {},
   "outputs": [
    {
     "output_type": "execute_result",
     "data": {
      "text/plain": [
       "         name                        addr  price        lat         lng\n",
       "0       기흥주유소          경기 용인시 기흥구 공세로 173   1242  37.236377  127.104316\n",
       "1       미키주유소  경기 용인시 기흥구  용구대로 2469번길 57   1255  37.311753  127.104677\n",
       "2     구성그린주유소  경기 용인시 기흥구 용구대로 2421 (마북동)   1265  37.301906  127.105711\n",
       "3     보정꽃길주유소   경기 용인시 기흥구 용구대로2469번길 153   1265  37.320348  127.104484\n",
       "4  이마트셀프전용주유소  경기 용인시 기흥구 용구대로 2441 (마북동)   1268  37.303651  127.104802"
      ],
      "text/html": "<div>\n<style scoped>\n    .dataframe tbody tr th:only-of-type {\n        vertical-align: middle;\n    }\n\n    .dataframe tbody tr th {\n        vertical-align: top;\n    }\n\n    .dataframe thead th {\n        text-align: right;\n    }\n</style>\n<table border=\"1\" class=\"dataframe\">\n  <thead>\n    <tr style=\"text-align: right;\">\n      <th></th>\n      <th>name</th>\n      <th>addr</th>\n      <th>price</th>\n      <th>lat</th>\n      <th>lng</th>\n    </tr>\n  </thead>\n  <tbody>\n    <tr>\n      <th>0</th>\n      <td>기흥주유소</td>\n      <td>경기 용인시 기흥구 공세로 173</td>\n      <td>1242</td>\n      <td>37.236377</td>\n      <td>127.104316</td>\n    </tr>\n    <tr>\n      <th>1</th>\n      <td>미키주유소</td>\n      <td>경기 용인시 기흥구  용구대로 2469번길 57</td>\n      <td>1255</td>\n      <td>37.311753</td>\n      <td>127.104677</td>\n    </tr>\n    <tr>\n      <th>2</th>\n      <td>구성그린주유소</td>\n      <td>경기 용인시 기흥구 용구대로 2421 (마북동)</td>\n      <td>1265</td>\n      <td>37.301906</td>\n      <td>127.105711</td>\n    </tr>\n    <tr>\n      <th>3</th>\n      <td>보정꽃길주유소</td>\n      <td>경기 용인시 기흥구 용구대로2469번길 153</td>\n      <td>1265</td>\n      <td>37.320348</td>\n      <td>127.104484</td>\n    </tr>\n    <tr>\n      <th>4</th>\n      <td>이마트셀프전용주유소</td>\n      <td>경기 용인시 기흥구 용구대로 2441 (마북동)</td>\n      <td>1268</td>\n      <td>37.303651</td>\n      <td>127.104802</td>\n    </tr>\n  </tbody>\n</table>\n</div>"
     },
     "metadata": {},
     "execution_count": 5
    }
   ],
   "source": [
    "df['lat'] = lat_list\n",
    "df['lng'] = lng_list\n",
    "df"
   ]
  },
  {
   "cell_type": "code",
   "execution_count": 6,
   "metadata": {},
   "outputs": [],
   "source": [
    "df.to_csv('station2.csv', sep=',', encoding='utf8', index=False)"
   ]
  },
  {
   "source": [
    "### 주유소 정보 지도위에 표시하기"
   ],
   "cell_type": "markdown",
   "metadata": {}
  },
  {
   "cell_type": "code",
   "execution_count": 7,
   "metadata": {},
   "outputs": [],
   "source": [
    "import folium\n",
    "\n",
    "df = pd.read_csv('station2.csv')"
   ]
  },
  {
   "cell_type": "code",
   "execution_count": 8,
   "metadata": {},
   "outputs": [
    {
     "output_type": "execute_result",
     "data": {
      "text/plain": [
       "         name                        addr  price        lat         lng\n",
       "0       기흥주유소          경기 용인시 기흥구 공세로 173   1242  37.236377  127.104316\n",
       "1       미키주유소  경기 용인시 기흥구  용구대로 2469번길 57   1255  37.311753  127.104677\n",
       "2     구성그린주유소  경기 용인시 기흥구 용구대로 2421 (마북동)   1265  37.301906  127.105711\n",
       "3     보정꽃길주유소   경기 용인시 기흥구 용구대로2469번길 153   1265  37.320348  127.104484\n",
       "4  이마트셀프전용주유소  경기 용인시 기흥구 용구대로 2441 (마북동)   1268  37.303651  127.104802"
      ],
      "text/html": "<div>\n<style scoped>\n    .dataframe tbody tr th:only-of-type {\n        vertical-align: middle;\n    }\n\n    .dataframe tbody tr th {\n        vertical-align: top;\n    }\n\n    .dataframe thead th {\n        text-align: right;\n    }\n</style>\n<table border=\"1\" class=\"dataframe\">\n  <thead>\n    <tr style=\"text-align: right;\">\n      <th></th>\n      <th>name</th>\n      <th>addr</th>\n      <th>price</th>\n      <th>lat</th>\n      <th>lng</th>\n    </tr>\n  </thead>\n  <tbody>\n    <tr>\n      <th>0</th>\n      <td>기흥주유소</td>\n      <td>경기 용인시 기흥구 공세로 173</td>\n      <td>1242</td>\n      <td>37.236377</td>\n      <td>127.104316</td>\n    </tr>\n    <tr>\n      <th>1</th>\n      <td>미키주유소</td>\n      <td>경기 용인시 기흥구  용구대로 2469번길 57</td>\n      <td>1255</td>\n      <td>37.311753</td>\n      <td>127.104677</td>\n    </tr>\n    <tr>\n      <th>2</th>\n      <td>구성그린주유소</td>\n      <td>경기 용인시 기흥구 용구대로 2421 (마북동)</td>\n      <td>1265</td>\n      <td>37.301906</td>\n      <td>127.105711</td>\n    </tr>\n    <tr>\n      <th>3</th>\n      <td>보정꽃길주유소</td>\n      <td>경기 용인시 기흥구 용구대로2469번길 153</td>\n      <td>1265</td>\n      <td>37.320348</td>\n      <td>127.104484</td>\n    </tr>\n    <tr>\n      <th>4</th>\n      <td>이마트셀프전용주유소</td>\n      <td>경기 용인시 기흥구 용구대로 2441 (마북동)</td>\n      <td>1268</td>\n      <td>37.303651</td>\n      <td>127.104802</td>\n    </tr>\n  </tbody>\n</table>\n</div>"
     },
     "metadata": {},
     "execution_count": 8
    }
   ],
   "source": [
    "df.sort_values('price', inplace=True)"
   ]
  },
  {
   "cell_type": "code",
   "execution_count": 12,
   "metadata": {},
   "outputs": [
    {
     "output_type": "execute_result",
     "data": {
      "text/plain": [
       "<folium.folium.Map at 0x26bed563490>"
      ],
      "text/html": "<div style=\"width:100%;\"><div style=\"position:relative;width:100%;height:0;padding-bottom:60%;\"><span style=\"color:#565656\">Make this Notebook Trusted to load map: File -> Trust Notebook</span><iframe src=\"about:blank\" style=\"position:absolute;width:100%;height:100%;left:0;top:0;border:none !important;\" data-html=%3C%21DOCTYPE%20html%3E%0A%3Chead%3E%20%20%20%20%0A%20%20%20%20%3Cmeta%20http-equiv%3D%22content-type%22%20content%3D%22text/html%3B%20charset%3DUTF-8%22%20/%3E%0A%20%20%20%20%0A%20%20%20%20%20%20%20%20%3Cscript%3E%0A%20%20%20%20%20%20%20%20%20%20%20%20L_NO_TOUCH%20%3D%20false%3B%0A%20%20%20%20%20%20%20%20%20%20%20%20L_DISABLE_3D%20%3D%20false%3B%0A%20%20%20%20%20%20%20%20%3C/script%3E%0A%20%20%20%20%0A%20%20%20%20%3Cscript%20src%3D%22https%3A//cdn.jsdelivr.net/npm/leaflet%401.6.0/dist/leaflet.js%22%3E%3C/script%3E%0A%20%20%20%20%3Cscript%20src%3D%22https%3A//code.jquery.com/jquery-1.12.4.min.js%22%3E%3C/script%3E%0A%20%20%20%20%3Cscript%20src%3D%22https%3A//maxcdn.bootstrapcdn.com/bootstrap/3.2.0/js/bootstrap.min.js%22%3E%3C/script%3E%0A%20%20%20%20%3Cscript%20src%3D%22https%3A//cdnjs.cloudflare.com/ajax/libs/Leaflet.awesome-markers/2.0.2/leaflet.awesome-markers.js%22%3E%3C/script%3E%0A%20%20%20%20%3Clink%20rel%3D%22stylesheet%22%20href%3D%22https%3A//cdn.jsdelivr.net/npm/leaflet%401.6.0/dist/leaflet.css%22/%3E%0A%20%20%20%20%3Clink%20rel%3D%22stylesheet%22%20href%3D%22https%3A//maxcdn.bootstrapcdn.com/bootstrap/3.2.0/css/bootstrap.min.css%22/%3E%0A%20%20%20%20%3Clink%20rel%3D%22stylesheet%22%20href%3D%22https%3A//maxcdn.bootstrapcdn.com/bootstrap/3.2.0/css/bootstrap-theme.min.css%22/%3E%0A%20%20%20%20%3Clink%20rel%3D%22stylesheet%22%20href%3D%22https%3A//maxcdn.bootstrapcdn.com/font-awesome/4.6.3/css/font-awesome.min.css%22/%3E%0A%20%20%20%20%3Clink%20rel%3D%22stylesheet%22%20href%3D%22https%3A//cdnjs.cloudflare.com/ajax/libs/Leaflet.awesome-markers/2.0.2/leaflet.awesome-markers.css%22/%3E%0A%20%20%20%20%3Clink%20rel%3D%22stylesheet%22%20href%3D%22https%3A//rawcdn.githack.com/python-visualization/folium/master/folium/templates/leaflet.awesome.rotate.css%22/%3E%0A%20%20%20%20%3Cstyle%3Ehtml%2C%20body%20%7Bwidth%3A%20100%25%3Bheight%3A%20100%25%3Bmargin%3A%200%3Bpadding%3A%200%3B%7D%3C/style%3E%0A%20%20%20%20%3Cstyle%3E%23map%20%7Bposition%3Aabsolute%3Btop%3A0%3Bbottom%3A0%3Bright%3A0%3Bleft%3A0%3B%7D%3C/style%3E%0A%20%20%20%20%0A%20%20%20%20%20%20%20%20%20%20%20%20%3Cmeta%20name%3D%22viewport%22%20content%3D%22width%3Ddevice-width%2C%0A%20%20%20%20%20%20%20%20%20%20%20%20%20%20%20%20initial-scale%3D1.0%2C%20maximum-scale%3D1.0%2C%20user-scalable%3Dno%22%20/%3E%0A%20%20%20%20%20%20%20%20%20%20%20%20%3Cstyle%3E%0A%20%20%20%20%20%20%20%20%20%20%20%20%20%20%20%20%23map_aa1ccaba31ed4458a45070b2a24d2350%20%7B%0A%20%20%20%20%20%20%20%20%20%20%20%20%20%20%20%20%20%20%20%20position%3A%20relative%3B%0A%20%20%20%20%20%20%20%20%20%20%20%20%20%20%20%20%20%20%20%20width%3A%20100.0%25%3B%0A%20%20%20%20%20%20%20%20%20%20%20%20%20%20%20%20%20%20%20%20height%3A%20100.0%25%3B%0A%20%20%20%20%20%20%20%20%20%20%20%20%20%20%20%20%20%20%20%20left%3A%200.0%25%3B%0A%20%20%20%20%20%20%20%20%20%20%20%20%20%20%20%20%20%20%20%20top%3A%200.0%25%3B%0A%20%20%20%20%20%20%20%20%20%20%20%20%20%20%20%20%7D%0A%20%20%20%20%20%20%20%20%20%20%20%20%3C/style%3E%0A%20%20%20%20%20%20%20%20%0A%3C/head%3E%0A%3Cbody%3E%20%20%20%20%0A%20%20%20%20%0A%20%20%20%20%20%20%20%20%20%20%20%20%3Cdiv%20class%3D%22folium-map%22%20id%3D%22map_aa1ccaba31ed4458a45070b2a24d2350%22%20%3E%3C/div%3E%0A%20%20%20%20%20%20%20%20%0A%3C/body%3E%0A%3Cscript%3E%20%20%20%20%0A%20%20%20%20%0A%20%20%20%20%20%20%20%20%20%20%20%20var%20map_aa1ccaba31ed4458a45070b2a24d2350%20%3D%20L.map%28%0A%20%20%20%20%20%20%20%20%20%20%20%20%20%20%20%20%22map_aa1ccaba31ed4458a45070b2a24d2350%22%2C%0A%20%20%20%20%20%20%20%20%20%20%20%20%20%20%20%20%7B%0A%20%20%20%20%20%20%20%20%20%20%20%20%20%20%20%20%20%20%20%20center%3A%20%5B37.29480703317466%2C%20127.104798110384%5D%2C%0A%20%20%20%20%20%20%20%20%20%20%20%20%20%20%20%20%20%20%20%20crs%3A%20L.CRS.EPSG3857%2C%0A%20%20%20%20%20%20%20%20%20%20%20%20%20%20%20%20%20%20%20%20zoom%3A%2013%2C%0A%20%20%20%20%20%20%20%20%20%20%20%20%20%20%20%20%20%20%20%20zoomControl%3A%20true%2C%0A%20%20%20%20%20%20%20%20%20%20%20%20%20%20%20%20%20%20%20%20preferCanvas%3A%20false%2C%0A%20%20%20%20%20%20%20%20%20%20%20%20%20%20%20%20%7D%0A%20%20%20%20%20%20%20%20%20%20%20%20%29%3B%0A%0A%20%20%20%20%20%20%20%20%20%20%20%20%0A%0A%20%20%20%20%20%20%20%20%0A%20%20%20%20%0A%20%20%20%20%20%20%20%20%20%20%20%20var%20tile_layer_092b71901e60491388f1feed9f4e654d%20%3D%20L.tileLayer%28%0A%20%20%20%20%20%20%20%20%20%20%20%20%20%20%20%20%22https%3A//%7Bs%7D.tile.openstreetmap.org/%7Bz%7D/%7Bx%7D/%7By%7D.png%22%2C%0A%20%20%20%20%20%20%20%20%20%20%20%20%20%20%20%20%7B%22attribution%22%3A%20%22Data%20by%20%5Cu0026copy%3B%20%5Cu003ca%20href%3D%5C%22http%3A//openstreetmap.org%5C%22%5Cu003eOpenStreetMap%5Cu003c/a%5Cu003e%2C%20under%20%5Cu003ca%20href%3D%5C%22http%3A//www.openstreetmap.org/copyright%5C%22%5Cu003eODbL%5Cu003c/a%5Cu003e.%22%2C%20%22detectRetina%22%3A%20false%2C%20%22maxNativeZoom%22%3A%2018%2C%20%22maxZoom%22%3A%2018%2C%20%22minZoom%22%3A%200%2C%20%22noWrap%22%3A%20false%2C%20%22opacity%22%3A%201%2C%20%22subdomains%22%3A%20%22abc%22%2C%20%22tms%22%3A%20false%7D%0A%20%20%20%20%20%20%20%20%20%20%20%20%29.addTo%28map_aa1ccaba31ed4458a45070b2a24d2350%29%3B%0A%20%20%20%20%20%20%20%20%0A%20%20%20%20%0A%20%20%20%20%20%20%20%20%20%20%20%20var%20marker_af89cde7213f4ed5adc7d59d69350749%20%3D%20L.marker%28%0A%20%20%20%20%20%20%20%20%20%20%20%20%20%20%20%20%5B37.236376722790105%2C%20127.10431621644699%5D%2C%0A%20%20%20%20%20%20%20%20%20%20%20%20%20%20%20%20%7B%7D%0A%20%20%20%20%20%20%20%20%20%20%20%20%29.addTo%28map_aa1ccaba31ed4458a45070b2a24d2350%29%3B%0A%20%20%20%20%20%20%20%20%0A%20%20%20%20%0A%20%20%20%20%20%20%20%20%20%20%20%20var%20icon_a562f01a7c5c4b00b98863ec7ccd97f4%20%3D%20L.AwesomeMarkers.icon%28%0A%20%20%20%20%20%20%20%20%20%20%20%20%20%20%20%20%7B%22extraClasses%22%3A%20%22fa-rotate-0%22%2C%20%22icon%22%3A%20%22info-sign%22%2C%20%22iconColor%22%3A%20%22white%22%2C%20%22markerColor%22%3A%20%22red%22%2C%20%22prefix%22%3A%20%22glyphicon%22%7D%0A%20%20%20%20%20%20%20%20%20%20%20%20%29%3B%0A%20%20%20%20%20%20%20%20%20%20%20%20marker_af89cde7213f4ed5adc7d59d69350749.setIcon%28icon_a562f01a7c5c4b00b98863ec7ccd97f4%29%3B%0A%20%20%20%20%20%20%20%20%0A%20%20%20%20%0A%20%20%20%20%20%20%20%20var%20popup_713b89fe42d84f09824e383c96fe5cde%20%3D%20L.popup%28%7B%22maxWidth%22%3A%20%22100%25%22%7D%29%3B%0A%0A%20%20%20%20%20%20%20%20%0A%20%20%20%20%20%20%20%20%20%20%20%20var%20html_94e10212f29f43ed8015d261e4f6aee5%20%3D%20%24%28%60%3Cdiv%20id%3D%22html_94e10212f29f43ed8015d261e4f6aee5%22%20style%3D%22width%3A%20100.0%25%3B%20height%3A%20100.0%25%3B%22%3E%EA%B8%B0%ED%9D%A5%EC%A3%BC%EC%9C%A0%EC%86%8C%3C/div%3E%60%29%5B0%5D%3B%0A%20%20%20%20%20%20%20%20%20%20%20%20popup_713b89fe42d84f09824e383c96fe5cde.setContent%28html_94e10212f29f43ed8015d261e4f6aee5%29%3B%0A%20%20%20%20%20%20%20%20%0A%0A%20%20%20%20%20%20%20%20marker_af89cde7213f4ed5adc7d59d69350749.bindPopup%28popup_713b89fe42d84f09824e383c96fe5cde%29%0A%20%20%20%20%20%20%20%20%3B%0A%0A%20%20%20%20%20%20%20%20%0A%20%20%20%20%0A%20%20%20%20%0A%20%20%20%20%20%20%20%20%20%20%20%20marker_af89cde7213f4ed5adc7d59d69350749.bindTooltip%28%0A%20%20%20%20%20%20%20%20%20%20%20%20%20%20%20%20%60%3Cdiv%3E%0A%20%20%20%20%20%20%20%20%20%20%20%20%20%20%20%20%20%20%20%20%20%ED%9C%98%EB%B0%9C%EC%9C%A0%3A%201242%EC%9B%90%0A%20%20%20%20%20%20%20%20%20%20%20%20%20%20%20%20%20%3C/div%3E%60%2C%0A%20%20%20%20%20%20%20%20%20%20%20%20%20%20%20%20%7B%22sticky%22%3A%20true%7D%0A%20%20%20%20%20%20%20%20%20%20%20%20%29%3B%0A%20%20%20%20%20%20%20%20%0A%20%20%20%20%0A%20%20%20%20%20%20%20%20%20%20%20%20var%20marker_8fb476ef72ef40439d226bb13f48814e%20%3D%20L.marker%28%0A%20%20%20%20%20%20%20%20%20%20%20%20%20%20%20%20%5B37.3117531047911%2C%20127.104677471367%5D%2C%0A%20%20%20%20%20%20%20%20%20%20%20%20%20%20%20%20%7B%7D%0A%20%20%20%20%20%20%20%20%20%20%20%20%29.addTo%28map_aa1ccaba31ed4458a45070b2a24d2350%29%3B%0A%20%20%20%20%20%20%20%20%0A%20%20%20%20%0A%20%20%20%20%20%20%20%20%20%20%20%20var%20icon_cc8f6ca9bc134ed891fb56a30023c997%20%3D%20L.AwesomeMarkers.icon%28%0A%20%20%20%20%20%20%20%20%20%20%20%20%20%20%20%20%7B%22extraClasses%22%3A%20%22fa-rotate-0%22%2C%20%22icon%22%3A%20%22info-sign%22%2C%20%22iconColor%22%3A%20%22white%22%2C%20%22markerColor%22%3A%20%22blue%22%2C%20%22prefix%22%3A%20%22glyphicon%22%7D%0A%20%20%20%20%20%20%20%20%20%20%20%20%29%3B%0A%20%20%20%20%20%20%20%20%20%20%20%20marker_8fb476ef72ef40439d226bb13f48814e.setIcon%28icon_cc8f6ca9bc134ed891fb56a30023c997%29%3B%0A%20%20%20%20%20%20%20%20%0A%20%20%20%20%0A%20%20%20%20%20%20%20%20var%20popup_4991e5e20b134011a418449b07133171%20%3D%20L.popup%28%7B%22maxWidth%22%3A%20%22100%25%22%7D%29%3B%0A%0A%20%20%20%20%20%20%20%20%0A%20%20%20%20%20%20%20%20%20%20%20%20var%20html_76e772757f914c6f8bbec0c5cd7e8bd4%20%3D%20%24%28%60%3Cdiv%20id%3D%22html_76e772757f914c6f8bbec0c5cd7e8bd4%22%20style%3D%22width%3A%20100.0%25%3B%20height%3A%20100.0%25%3B%22%3E%EB%AF%B8%ED%82%A4%EC%A3%BC%EC%9C%A0%EC%86%8C%3C/div%3E%60%29%5B0%5D%3B%0A%20%20%20%20%20%20%20%20%20%20%20%20popup_4991e5e20b134011a418449b07133171.setContent%28html_76e772757f914c6f8bbec0c5cd7e8bd4%29%3B%0A%20%20%20%20%20%20%20%20%0A%0A%20%20%20%20%20%20%20%20marker_8fb476ef72ef40439d226bb13f48814e.bindPopup%28popup_4991e5e20b134011a418449b07133171%29%0A%20%20%20%20%20%20%20%20%3B%0A%0A%20%20%20%20%20%20%20%20%0A%20%20%20%20%0A%20%20%20%20%0A%20%20%20%20%20%20%20%20%20%20%20%20marker_8fb476ef72ef40439d226bb13f48814e.bindTooltip%28%0A%20%20%20%20%20%20%20%20%20%20%20%20%20%20%20%20%60%3Cdiv%3E%0A%20%20%20%20%20%20%20%20%20%20%20%20%20%20%20%20%20%20%20%20%20%ED%9C%98%EB%B0%9C%EC%9C%A0%3A%201255%EC%9B%90%0A%20%20%20%20%20%20%20%20%20%20%20%20%20%20%20%20%20%3C/div%3E%60%2C%0A%20%20%20%20%20%20%20%20%20%20%20%20%20%20%20%20%7B%22sticky%22%3A%20true%7D%0A%20%20%20%20%20%20%20%20%20%20%20%20%29%3B%0A%20%20%20%20%20%20%20%20%0A%20%20%20%20%0A%20%20%20%20%20%20%20%20%20%20%20%20var%20marker_14a26e04709148ac9154667bb9a6c4e2%20%3D%20L.marker%28%0A%20%20%20%20%20%20%20%20%20%20%20%20%20%20%20%20%5B37.3019063039751%2C%20127.10571087324499%5D%2C%0A%20%20%20%20%20%20%20%20%20%20%20%20%20%20%20%20%7B%7D%0A%20%20%20%20%20%20%20%20%20%20%20%20%29.addTo%28map_aa1ccaba31ed4458a45070b2a24d2350%29%3B%0A%20%20%20%20%20%20%20%20%0A%20%20%20%20%0A%20%20%20%20%20%20%20%20%20%20%20%20var%20icon_b2ca244671b64ed9a402d9db3e4605d4%20%3D%20L.AwesomeMarkers.icon%28%0A%20%20%20%20%20%20%20%20%20%20%20%20%20%20%20%20%7B%22extraClasses%22%3A%20%22fa-rotate-0%22%2C%20%22icon%22%3A%20%22info-sign%22%2C%20%22iconColor%22%3A%20%22white%22%2C%20%22markerColor%22%3A%20%22blue%22%2C%20%22prefix%22%3A%20%22glyphicon%22%7D%0A%20%20%20%20%20%20%20%20%20%20%20%20%29%3B%0A%20%20%20%20%20%20%20%20%20%20%20%20marker_14a26e04709148ac9154667bb9a6c4e2.setIcon%28icon_b2ca244671b64ed9a402d9db3e4605d4%29%3B%0A%20%20%20%20%20%20%20%20%0A%20%20%20%20%0A%20%20%20%20%20%20%20%20var%20popup_68d2b154721b4eb9b472af0499466aa8%20%3D%20L.popup%28%7B%22maxWidth%22%3A%20%22100%25%22%7D%29%3B%0A%0A%20%20%20%20%20%20%20%20%0A%20%20%20%20%20%20%20%20%20%20%20%20var%20html_76f09e2a93614112bf850793bd40605e%20%3D%20%24%28%60%3Cdiv%20id%3D%22html_76f09e2a93614112bf850793bd40605e%22%20style%3D%22width%3A%20100.0%25%3B%20height%3A%20100.0%25%3B%22%3E%EA%B5%AC%EC%84%B1%EA%B7%B8%EB%A6%B0%EC%A3%BC%EC%9C%A0%EC%86%8C%3C/div%3E%60%29%5B0%5D%3B%0A%20%20%20%20%20%20%20%20%20%20%20%20popup_68d2b154721b4eb9b472af0499466aa8.setContent%28html_76f09e2a93614112bf850793bd40605e%29%3B%0A%20%20%20%20%20%20%20%20%0A%0A%20%20%20%20%20%20%20%20marker_14a26e04709148ac9154667bb9a6c4e2.bindPopup%28popup_68d2b154721b4eb9b472af0499466aa8%29%0A%20%20%20%20%20%20%20%20%3B%0A%0A%20%20%20%20%20%20%20%20%0A%20%20%20%20%0A%20%20%20%20%0A%20%20%20%20%20%20%20%20%20%20%20%20marker_14a26e04709148ac9154667bb9a6c4e2.bindTooltip%28%0A%20%20%20%20%20%20%20%20%20%20%20%20%20%20%20%20%60%3Cdiv%3E%0A%20%20%20%20%20%20%20%20%20%20%20%20%20%20%20%20%20%20%20%20%20%ED%9C%98%EB%B0%9C%EC%9C%A0%3A%201265%EC%9B%90%0A%20%20%20%20%20%20%20%20%20%20%20%20%20%20%20%20%20%3C/div%3E%60%2C%0A%20%20%20%20%20%20%20%20%20%20%20%20%20%20%20%20%7B%22sticky%22%3A%20true%7D%0A%20%20%20%20%20%20%20%20%20%20%20%20%29%3B%0A%20%20%20%20%20%20%20%20%0A%20%20%20%20%0A%20%20%20%20%20%20%20%20%20%20%20%20var%20marker_8c186924acc640d198431e0eb3c5d1b1%20%3D%20L.marker%28%0A%20%20%20%20%20%20%20%20%20%20%20%20%20%20%20%20%5B37.3203476971769%2C%20127.10448360657699%5D%2C%0A%20%20%20%20%20%20%20%20%20%20%20%20%20%20%20%20%7B%7D%0A%20%20%20%20%20%20%20%20%20%20%20%20%29.addTo%28map_aa1ccaba31ed4458a45070b2a24d2350%29%3B%0A%20%20%20%20%20%20%20%20%0A%20%20%20%20%0A%20%20%20%20%20%20%20%20%20%20%20%20var%20icon_6da0ff0b33ac44a0afe2817d4526dd46%20%3D%20L.AwesomeMarkers.icon%28%0A%20%20%20%20%20%20%20%20%20%20%20%20%20%20%20%20%7B%22extraClasses%22%3A%20%22fa-rotate-0%22%2C%20%22icon%22%3A%20%22info-sign%22%2C%20%22iconColor%22%3A%20%22white%22%2C%20%22markerColor%22%3A%20%22blue%22%2C%20%22prefix%22%3A%20%22glyphicon%22%7D%0A%20%20%20%20%20%20%20%20%20%20%20%20%29%3B%0A%20%20%20%20%20%20%20%20%20%20%20%20marker_8c186924acc640d198431e0eb3c5d1b1.setIcon%28icon_6da0ff0b33ac44a0afe2817d4526dd46%29%3B%0A%20%20%20%20%20%20%20%20%0A%20%20%20%20%0A%20%20%20%20%20%20%20%20var%20popup_67cae4420c7f4a629d53c6e77188a3dd%20%3D%20L.popup%28%7B%22maxWidth%22%3A%20%22100%25%22%7D%29%3B%0A%0A%20%20%20%20%20%20%20%20%0A%20%20%20%20%20%20%20%20%20%20%20%20var%20html_d2f28e2f9eed456d9755bab69079eb1a%20%3D%20%24%28%60%3Cdiv%20id%3D%22html_d2f28e2f9eed456d9755bab69079eb1a%22%20style%3D%22width%3A%20100.0%25%3B%20height%3A%20100.0%25%3B%22%3E%EB%B3%B4%EC%A0%95%EA%BD%83%EA%B8%B8%EC%A3%BC%EC%9C%A0%EC%86%8C%3C/div%3E%60%29%5B0%5D%3B%0A%20%20%20%20%20%20%20%20%20%20%20%20popup_67cae4420c7f4a629d53c6e77188a3dd.setContent%28html_d2f28e2f9eed456d9755bab69079eb1a%29%3B%0A%20%20%20%20%20%20%20%20%0A%0A%20%20%20%20%20%20%20%20marker_8c186924acc640d198431e0eb3c5d1b1.bindPopup%28popup_67cae4420c7f4a629d53c6e77188a3dd%29%0A%20%20%20%20%20%20%20%20%3B%0A%0A%20%20%20%20%20%20%20%20%0A%20%20%20%20%0A%20%20%20%20%0A%20%20%20%20%20%20%20%20%20%20%20%20marker_8c186924acc640d198431e0eb3c5d1b1.bindTooltip%28%0A%20%20%20%20%20%20%20%20%20%20%20%20%20%20%20%20%60%3Cdiv%3E%0A%20%20%20%20%20%20%20%20%20%20%20%20%20%20%20%20%20%20%20%20%20%ED%9C%98%EB%B0%9C%EC%9C%A0%3A%201265%EC%9B%90%0A%20%20%20%20%20%20%20%20%20%20%20%20%20%20%20%20%20%3C/div%3E%60%2C%0A%20%20%20%20%20%20%20%20%20%20%20%20%20%20%20%20%7B%22sticky%22%3A%20true%7D%0A%20%20%20%20%20%20%20%20%20%20%20%20%29%3B%0A%20%20%20%20%20%20%20%20%0A%20%20%20%20%0A%20%20%20%20%20%20%20%20%20%20%20%20var%20marker_6f11dcbe146d43a097b4d9df94b7027c%20%3D%20L.marker%28%0A%20%20%20%20%20%20%20%20%20%20%20%20%20%20%20%20%5B37.3036513371401%2C%20127.104802384284%5D%2C%0A%20%20%20%20%20%20%20%20%20%20%20%20%20%20%20%20%7B%7D%0A%20%20%20%20%20%20%20%20%20%20%20%20%29.addTo%28map_aa1ccaba31ed4458a45070b2a24d2350%29%3B%0A%20%20%20%20%20%20%20%20%0A%20%20%20%20%0A%20%20%20%20%20%20%20%20%20%20%20%20var%20icon_38d713e553ff44848c2e1cf992f22181%20%3D%20L.AwesomeMarkers.icon%28%0A%20%20%20%20%20%20%20%20%20%20%20%20%20%20%20%20%7B%22extraClasses%22%3A%20%22fa-rotate-0%22%2C%20%22icon%22%3A%20%22info-sign%22%2C%20%22iconColor%22%3A%20%22white%22%2C%20%22markerColor%22%3A%20%22blue%22%2C%20%22prefix%22%3A%20%22glyphicon%22%7D%0A%20%20%20%20%20%20%20%20%20%20%20%20%29%3B%0A%20%20%20%20%20%20%20%20%20%20%20%20marker_6f11dcbe146d43a097b4d9df94b7027c.setIcon%28icon_38d713e553ff44848c2e1cf992f22181%29%3B%0A%20%20%20%20%20%20%20%20%0A%20%20%20%20%0A%20%20%20%20%20%20%20%20var%20popup_576ce09a9b2443859a7670355eeb5c73%20%3D%20L.popup%28%7B%22maxWidth%22%3A%20%22100%25%22%7D%29%3B%0A%0A%20%20%20%20%20%20%20%20%0A%20%20%20%20%20%20%20%20%20%20%20%20var%20html_ef790bafbc64400fa89f5d7d73fe2346%20%3D%20%24%28%60%3Cdiv%20id%3D%22html_ef790bafbc64400fa89f5d7d73fe2346%22%20style%3D%22width%3A%20100.0%25%3B%20height%3A%20100.0%25%3B%22%3E%EC%9D%B4%EB%A7%88%ED%8A%B8%EC%85%80%ED%94%84%EC%A0%84%EC%9A%A9%EC%A3%BC%EC%9C%A0%EC%86%8C%3C/div%3E%60%29%5B0%5D%3B%0A%20%20%20%20%20%20%20%20%20%20%20%20popup_576ce09a9b2443859a7670355eeb5c73.setContent%28html_ef790bafbc64400fa89f5d7d73fe2346%29%3B%0A%20%20%20%20%20%20%20%20%0A%0A%20%20%20%20%20%20%20%20marker_6f11dcbe146d43a097b4d9df94b7027c.bindPopup%28popup_576ce09a9b2443859a7670355eeb5c73%29%0A%20%20%20%20%20%20%20%20%3B%0A%0A%20%20%20%20%20%20%20%20%0A%20%20%20%20%0A%20%20%20%20%0A%20%20%20%20%20%20%20%20%20%20%20%20marker_6f11dcbe146d43a097b4d9df94b7027c.bindTooltip%28%0A%20%20%20%20%20%20%20%20%20%20%20%20%20%20%20%20%60%3Cdiv%3E%0A%20%20%20%20%20%20%20%20%20%20%20%20%20%20%20%20%20%20%20%20%20%ED%9C%98%EB%B0%9C%EC%9C%A0%3A%201268%EC%9B%90%0A%20%20%20%20%20%20%20%20%20%20%20%20%20%20%20%20%20%3C/div%3E%60%2C%0A%20%20%20%20%20%20%20%20%20%20%20%20%20%20%20%20%7B%22sticky%22%3A%20true%7D%0A%20%20%20%20%20%20%20%20%20%20%20%20%29%3B%0A%20%20%20%20%20%20%20%20%0A%3C/script%3E onload=\"this.contentDocument.open();this.contentDocument.write(    decodeURIComponent(this.getAttribute('data-html')));this.contentDocument.close();\" allowfullscreen webkitallowfullscreen mozallowfullscreen></iframe></div></div>"
     },
     "metadata": {},
     "execution_count": 12
    }
   ],
   "source": [
    "df['color'] = ['red', 'blue', 'blue', 'blue', 'blue']\n",
    "map = folium.Map(location=[df.lat.mean(), df.lng.mean()], zoom_start=13)\n",
    "for i in df.index:\n",
    "    folium.Marker(\n",
    "        location=[df.lat[i], df.lng[i]],\n",
    "        popup=df.name[i],\n",
    "        tooltip=f'휘발유: {df.price[i]}원',\n",
    "        icon=folium.Icon(color=df.color[i])\n",
    "    ).add_to(map)\n",
    "map"
   ]
  },
  {
   "cell_type": "code",
   "execution_count": null,
   "metadata": {},
   "outputs": [],
   "source": []
  }
 ]
}