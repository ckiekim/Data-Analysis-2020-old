{
 "metadata": {
  "language_info": {
   "codemirror_mode": {
    "name": "ipython",
    "version": 3
   },
   "file_extension": ".py",
   "mimetype": "text/x-python",
   "name": "python",
   "nbconvert_exporter": "python",
   "pygments_lexer": "ipython3",
   "version": "3.7.7-final"
  },
  "orig_nbformat": 2,
  "kernelspec": {
   "name": "python3",
   "display_name": "Python 3"
  }
 },
 "nbformat": 4,
 "nbformat_minor": 2,
 "cells": [
  {
   "source": [
    "# 2020.11.24 과제\n",
    "### 내 주유소 지도위에 찍고 휘발유 가격 보여주기"
   ],
   "cell_type": "markdown",
   "metadata": {}
  },
  {
   "cell_type": "code",
   "execution_count": 1,
   "metadata": {},
   "outputs": [],
   "source": [
    "import time\n",
    "from selenium import webdriver\n",
    "from selenium.webdriver.common.keys import Keys"
   ]
  },
  {
   "cell_type": "code",
   "execution_count": 2,
   "metadata": {},
   "outputs": [],
   "source": [
    "import requests\n",
    "from urllib.parse import quote, unquote\n",
    "import pandas as pd"
   ]
  },
  {
   "cell_type": "code",
   "execution_count": 3,
   "metadata": {},
   "outputs": [],
   "source": [
    "key_fd = open('../06.RestAPI/roadapikey.txt', mode='r')\n",
    "roadapi_key = key_fd.read(100)\n",
    "key_fd.close()"
   ]
  },
  {
   "cell_type": "code",
   "execution_count": 4,
   "metadata": {},
   "outputs": [
    {
     "output_type": "execute_result",
     "data": {
      "text/plain": [
       "'https://www.juso.go.kr/addrlink/addrLinkApi.do?confmKey=U01TX0FVVEgyMDIwMTExOTEwMjMzNTExMDQzNzg=&currentPage=1&countPerPage=10&keyword=%EC%84%B1%EB%B3%B5%EB%8F%99%20%EB%A1%AF%EB%8D%B0%EC%BA%90%EC%8A%AC%EA%B3%A8%EB%93%9C%ED%83%80%EC%9A%B4&resultType=json'"
      ]
     },
     "metadata": {},
     "execution_count": 4
    }
   ],
   "source": [
    "road_url = 'https://www.juso.go.kr/addrlink/addrLinkApi.do'\n",
    "my_home = '성복동 롯데캐슬골드타운'\n",
    "url = f'{road_url}?confmKey={roadapi_key}&currentPage=1&countPerPage=10&keyword={quote(my_home)}&resultType=json'\n",
    "url"
   ]
  },
  {
   "cell_type": "code",
   "execution_count": 5,
   "metadata": {},
   "outputs": [
    {
     "output_type": "execute_result",
     "data": {
      "text/plain": [
       "'경기도 용인시 수지구 성복2로 10 (성복동, 성복역롯데캐슬골드타운)'"
      ]
     },
     "metadata": {},
     "execution_count": 5
    }
   ],
   "source": [
    "result = requests.get(url).json()\n",
    "my_addr = result['results']['juso'][1]['roadAddr']\n",
    "my_addr"
   ]
  },
  {
   "cell_type": "code",
   "execution_count": 6,
   "metadata": {},
   "outputs": [
    {
     "output_type": "execute_result",
     "data": {
      "text/plain": [
       "   광역      지역             상호                              주소\n",
       "0  경기  용인시수지구  서창산업㈜죽전(상)주유소  경기 용인시 수지구 용구대로2771번길 37 (죽전동)\n",
       "1  경기  용인시수지구     풍덕천Self주유소      경기 용인시 수지구 포은대로 402 (풍덕천동)\n",
       "2  경기  용인시수지구  대명에너지 광교셀프직영점        경기 용인시 수지구 포은대로 58 (상현동)\n",
       "3  경기  용인시수지구          반도주유소   경기 용인시 수지구 신수로683번길 11 (풍덕천동)\n",
       "4  경기  용인시수지구  지에스칼텍스㈜ 죽전주유소      경기 용인시 수지구 용구대로 2782 (죽전동)"
      ],
      "text/html": "<div>\n<style scoped>\n    .dataframe tbody tr th:only-of-type {\n        vertical-align: middle;\n    }\n\n    .dataframe tbody tr th {\n        vertical-align: top;\n    }\n\n    .dataframe thead th {\n        text-align: right;\n    }\n</style>\n<table border=\"1\" class=\"dataframe\">\n  <thead>\n    <tr style=\"text-align: right;\">\n      <th></th>\n      <th>광역</th>\n      <th>지역</th>\n      <th>상호</th>\n      <th>주소</th>\n    </tr>\n  </thead>\n  <tbody>\n    <tr>\n      <th>0</th>\n      <td>경기</td>\n      <td>용인시수지구</td>\n      <td>서창산업㈜죽전(상)주유소</td>\n      <td>경기 용인시 수지구 용구대로2771번길 37 (죽전동)</td>\n    </tr>\n    <tr>\n      <th>1</th>\n      <td>경기</td>\n      <td>용인시수지구</td>\n      <td>풍덕천Self주유소</td>\n      <td>경기 용인시 수지구 포은대로 402 (풍덕천동)</td>\n    </tr>\n    <tr>\n      <th>2</th>\n      <td>경기</td>\n      <td>용인시수지구</td>\n      <td>대명에너지 광교셀프직영점</td>\n      <td>경기 용인시 수지구 포은대로 58 (상현동)</td>\n    </tr>\n    <tr>\n      <th>3</th>\n      <td>경기</td>\n      <td>용인시수지구</td>\n      <td>반도주유소</td>\n      <td>경기 용인시 수지구 신수로683번길 11 (풍덕천동)</td>\n    </tr>\n    <tr>\n      <th>4</th>\n      <td>경기</td>\n      <td>용인시수지구</td>\n      <td>지에스칼텍스㈜ 죽전주유소</td>\n      <td>경기 용인시 수지구 용구대로 2782 (죽전동)</td>\n    </tr>\n  </tbody>\n</table>\n</div>"
     },
     "metadata": {},
     "execution_count": 6
    }
   ],
   "source": [
    "df = pd.read_csv('주유소.csv')\n",
    "df.head(5)"
   ]
  },
  {
   "cell_type": "code",
   "execution_count": 8,
   "metadata": {},
   "outputs": [
    {
     "output_type": "stream",
     "name": "stdout",
     "text": [
      "0: 1245\n",
      "1: 1298\n",
      "2: 1299\n",
      "3: 1329\n",
      "4: 1349\n",
      "5: 1349\n",
      "6: 1358\n",
      "7: 1359\n",
      "8: 1359\n",
      "9: D\n",
      "G\n",
      "1359\n",
      "10: 1242\n",
      "11: 1255\n",
      "12: 1264\n",
      "13: 1265\n",
      "14: D\n",
      "G\n",
      "1265\n",
      "15: 1265\n",
      "16: 1265\n",
      "17: 1265\n",
      "18: 1268\n",
      "19: 1269\n"
     ]
    }
   ],
   "source": [
    "driver = webdriver.Chrome('./chromedriver')\n",
    "#driver.maximize_window()\n",
    "driver.get('https://www.opinet.co.kr/user/main/mainView.do')\n",
    "time.sleep(2)\n",
    "driver.find_element_by_css_selector('.ic_m1').click()\n",
    "time.sleep(2)\n",
    "\n",
    "addr_list = []; price_list = []\n",
    "for i in df.index:\n",
    "    print(i, end=': ')\n",
    "    for _ in range(5):\n",
    "        try:\n",
    "            #tmp_a = driver.find_element_by_xpath('//*[@id=\"SIDO_NM0\"]')\n",
    "            tmp_a = driver.find_element_by_id('SIDO_NM0')\n",
    "            tmp_a.send_keys(df['광역'][i])\n",
    "            break\n",
    "        except:\n",
    "            print('A')\n",
    "            time.sleep(2)\n",
    "    time.sleep(10)\n",
    "    for _ in range(5):\n",
    "        try:\n",
    "            #tmp_b = driver.find_element_by_xpath('//*[@id=\"SIGUNGU_NM0\"]')\n",
    "            tmp_b = driver.find_element_by_id('SIGUNGU_NM0')\n",
    "            tmp_b.send_keys(df['지역'][i])\n",
    "            break\n",
    "        except:\n",
    "            print('B')\n",
    "            time.sleep(2)\n",
    "    for _ in range(5):\n",
    "        try:\n",
    "            #tmp_c = driver.find_element_by_xpath('//*[@id=\"searRgSelect\"]')\n",
    "            tmp_c = driver.find_element_by_id('searRgSelect')\n",
    "            tmp_c.click()\n",
    "            break\n",
    "        except:\n",
    "            print('C')\n",
    "            time.sleep(2)\n",
    "    time.sleep(5)\n",
    "    for _ in range(5):\n",
    "        try:\n",
    "            #tmp_d = driver.find_element_by_xpath('//*[@id=\"SEARCH_MOD4\"]')\n",
    "            tmp_d = driver.find_element_by_id('SEARCH_MOD4')\n",
    "            tmp_d.click()\n",
    "            break\n",
    "        except:\n",
    "            print('D')\n",
    "            time.sleep(2)\n",
    "    time.sleep(2)\n",
    "    for _ in range(5):\n",
    "        try:\n",
    "            tmp_e = driver.find_element_by_id('OS_NM')\n",
    "            tmp_e.clear()\n",
    "            tmp_e.send_keys(df['상호'][i])\n",
    "            break\n",
    "        except:\n",
    "            print('E')\n",
    "            time.sleep(2)\n",
    "    time.sleep(2)\n",
    "    # 조회 버튼 클릭\n",
    "    for _ in range(5):\n",
    "        try:\n",
    "            tmp_f = driver.find_element_by_id('searRgSelect')\n",
    "            tmp_f.click()\n",
    "            break\n",
    "        except:\n",
    "            print('F')\n",
    "            time.sleep(2)\n",
    "    time.sleep(5)\n",
    "    for _ in range(5):\n",
    "        try:\n",
    "            tmp_g = driver.find_element_by_css_selector('.price')\n",
    "            price = tmp_g.text\n",
    "            price_list.append(int(price))\n",
    "            print(price)\n",
    "            price = 0\n",
    "            break\n",
    "        except:\n",
    "            print('G')\n",
    "            time.sleep(2)\n",
    "    time.sleep(2)\n",
    "    \n",
    "    # 주유소명 Click\n",
    "    \"\"\" driver.find_element_by_xpath('//*[@id=\"body1\"]/tr/td[1]/a').click()\n",
    "    time.sleep(10)\n",
    "    popup = driver.find_element_by_css_selector('.ollehmap-info-defaultStyle')\n",
    "    addr = popup.find_elements_by_tag_name('li')[1].text[7:]\n",
    "    addr_list.append(addr)\n",
    "    print(addr) \"\"\""
   ]
  },
  {
   "cell_type": "code",
   "execution_count": 9,
   "metadata": {},
   "outputs": [
    {
     "output_type": "execute_result",
     "data": {
      "text/plain": [
       "   광역      지역             상호                              주소  price\n",
       "0  경기  용인시수지구  서창산업㈜죽전(상)주유소  경기 용인시 수지구 용구대로2771번길 37 (죽전동)   1245\n",
       "1  경기  용인시수지구     풍덕천Self주유소      경기 용인시 수지구 포은대로 402 (풍덕천동)   1298\n",
       "2  경기  용인시수지구  대명에너지 광교셀프직영점        경기 용인시 수지구 포은대로 58 (상현동)   1299\n",
       "3  경기  용인시수지구          반도주유소   경기 용인시 수지구 신수로683번길 11 (풍덕천동)   1329\n",
       "4  경기  용인시수지구  지에스칼텍스㈜ 죽전주유소      경기 용인시 수지구 용구대로 2782 (죽전동)   1349"
      ],
      "text/html": "<div>\n<style scoped>\n    .dataframe tbody tr th:only-of-type {\n        vertical-align: middle;\n    }\n\n    .dataframe tbody tr th {\n        vertical-align: top;\n    }\n\n    .dataframe thead th {\n        text-align: right;\n    }\n</style>\n<table border=\"1\" class=\"dataframe\">\n  <thead>\n    <tr style=\"text-align: right;\">\n      <th></th>\n      <th>광역</th>\n      <th>지역</th>\n      <th>상호</th>\n      <th>주소</th>\n      <th>price</th>\n    </tr>\n  </thead>\n  <tbody>\n    <tr>\n      <th>0</th>\n      <td>경기</td>\n      <td>용인시수지구</td>\n      <td>서창산업㈜죽전(상)주유소</td>\n      <td>경기 용인시 수지구 용구대로2771번길 37 (죽전동)</td>\n      <td>1245</td>\n    </tr>\n    <tr>\n      <th>1</th>\n      <td>경기</td>\n      <td>용인시수지구</td>\n      <td>풍덕천Self주유소</td>\n      <td>경기 용인시 수지구 포은대로 402 (풍덕천동)</td>\n      <td>1298</td>\n    </tr>\n    <tr>\n      <th>2</th>\n      <td>경기</td>\n      <td>용인시수지구</td>\n      <td>대명에너지 광교셀프직영점</td>\n      <td>경기 용인시 수지구 포은대로 58 (상현동)</td>\n      <td>1299</td>\n    </tr>\n    <tr>\n      <th>3</th>\n      <td>경기</td>\n      <td>용인시수지구</td>\n      <td>반도주유소</td>\n      <td>경기 용인시 수지구 신수로683번길 11 (풍덕천동)</td>\n      <td>1329</td>\n    </tr>\n    <tr>\n      <th>4</th>\n      <td>경기</td>\n      <td>용인시수지구</td>\n      <td>지에스칼텍스㈜ 죽전주유소</td>\n      <td>경기 용인시 수지구 용구대로 2782 (죽전동)</td>\n      <td>1349</td>\n    </tr>\n  </tbody>\n</table>\n</div>"
     },
     "metadata": {},
     "execution_count": 9
    }
   ],
   "source": [
    "#df['addr'] = addr_list\n",
    "df['price'] = price_list\n",
    "df.head()"
   ]
  },
  {
   "cell_type": "code",
   "execution_count": 10,
   "metadata": {},
   "outputs": [],
   "source": [
    "df.sort_values('price', inplace=True)\n",
    "df.to_csv('주유소2.csv', sep=',', encoding='utf8', index=False)"
   ]
  },
  {
   "source": [
    "### 위도, 경도 정보 구하기"
   ],
   "cell_type": "markdown",
   "metadata": {}
  },
  {
   "cell_type": "code",
   "execution_count": 11,
   "metadata": {},
   "outputs": [],
   "source": [
    "key_fd = open('../06.RestAPI/kakaomapkey.txt', mode='r')\n",
    "kmap_key = key_fd.read(100)\n",
    "key_fd.close()"
   ]
  },
  {
   "cell_type": "code",
   "execution_count": 26,
   "metadata": {},
   "outputs": [
    {
     "output_type": "stream",
     "name": "stdout",
     "text": [
      "37.3112644829202 127.08321416053\n"
     ]
    }
   ],
   "source": [
    "url = 'https://dapi.kakao.com/v2/local/search/address.json?query=' + quote(my_addr)\n",
    "result = requests.get(url,\n",
    "            headers={\"Authorization\": \"KakaoAK \"+kmap_key}).json()\n",
    "my_lat = float(result['documents'][0]['y'])\n",
    "my_lng = float(result['documents'][0]['x'])\n",
    "print(my_lat, my_lng)"
   ]
  },
  {
   "cell_type": "code",
   "execution_count": 27,
   "metadata": {},
   "outputs": [
    {
     "output_type": "execute_result",
     "data": {
      "text/plain": [
       "   광역      지역                상호                              주소  price\n",
       "0  경기  용인시기흥구   ㈜한미석유 기흥주유소/충전소              경기 용인시 기흥구 공세로 173   1242\n",
       "1  경기  용인시수지구     서창산업㈜죽전(상)주유소           경기 용인시 수지구 경부고속도로 400   1245\n",
       "2  경기  용인시기흥구             미키주유소      경기 용인시 기흥구  용구대로 2469번길 57   1255\n",
       "3  경기  용인시기흥구           아이언맨주유소         경기 용인시 기흥구 신갈로 13 (상갈동)   1264\n",
       "4  경기  용인시기흥구  SK에너지㈜직영 기쁨셀프주유소  경기 용인시 기흥구 용구대로2469번길130 (보정동)   1265"
      ],
      "text/html": "<div>\n<style scoped>\n    .dataframe tbody tr th:only-of-type {\n        vertical-align: middle;\n    }\n\n    .dataframe tbody tr th {\n        vertical-align: top;\n    }\n\n    .dataframe thead th {\n        text-align: right;\n    }\n</style>\n<table border=\"1\" class=\"dataframe\">\n  <thead>\n    <tr style=\"text-align: right;\">\n      <th></th>\n      <th>광역</th>\n      <th>지역</th>\n      <th>상호</th>\n      <th>주소</th>\n      <th>price</th>\n    </tr>\n  </thead>\n  <tbody>\n    <tr>\n      <th>0</th>\n      <td>경기</td>\n      <td>용인시기흥구</td>\n      <td>㈜한미석유 기흥주유소/충전소</td>\n      <td>경기 용인시 기흥구 공세로 173</td>\n      <td>1242</td>\n    </tr>\n    <tr>\n      <th>1</th>\n      <td>경기</td>\n      <td>용인시수지구</td>\n      <td>서창산업㈜죽전(상)주유소</td>\n      <td>경기 용인시 수지구 경부고속도로 400</td>\n      <td>1245</td>\n    </tr>\n    <tr>\n      <th>2</th>\n      <td>경기</td>\n      <td>용인시기흥구</td>\n      <td>미키주유소</td>\n      <td>경기 용인시 기흥구  용구대로 2469번길 57</td>\n      <td>1255</td>\n    </tr>\n    <tr>\n      <th>3</th>\n      <td>경기</td>\n      <td>용인시기흥구</td>\n      <td>아이언맨주유소</td>\n      <td>경기 용인시 기흥구 신갈로 13 (상갈동)</td>\n      <td>1264</td>\n    </tr>\n    <tr>\n      <th>4</th>\n      <td>경기</td>\n      <td>용인시기흥구</td>\n      <td>SK에너지㈜직영 기쁨셀프주유소</td>\n      <td>경기 용인시 기흥구 용구대로2469번길130 (보정동)</td>\n      <td>1265</td>\n    </tr>\n  </tbody>\n</table>\n</div>"
     },
     "metadata": {},
     "execution_count": 27
    }
   ],
   "source": [
    "df = pd.read_csv('주유소2.csv')\n",
    "df.head()"
   ]
  },
  {
   "cell_type": "code",
   "execution_count": 29,
   "metadata": {},
   "outputs": [],
   "source": [
    "lat_list = []; lng_list = []\n",
    "for i in df.index:\n",
    "    url = 'https://dapi.kakao.com/v2/local/search/address.json?query=' + quote(df['주소'][i])\n",
    "    result = requests.get(url,\n",
    "            headers={\"Authorization\": \"KakaoAK \"+kmap_key}).json()\n",
    "    lat = float(result['documents'][0]['y'])\n",
    "    lng = float(result['documents'][0]['x'])\n",
    "    lat_list.append(lat)\n",
    "    lng_list.append(lng)"
   ]
  },
  {
   "cell_type": "code",
   "execution_count": 30,
   "metadata": {},
   "outputs": [
    {
     "output_type": "execute_result",
     "data": {
      "text/plain": [
       "   광역      지역                상호                              주소  price  \\\n",
       "0  경기  용인시기흥구   ㈜한미석유 기흥주유소/충전소              경기 용인시 기흥구 공세로 173   1242   \n",
       "1  경기  용인시수지구     서창산업㈜죽전(상)주유소           경기 용인시 수지구 경부고속도로 400   1245   \n",
       "2  경기  용인시기흥구             미키주유소      경기 용인시 기흥구  용구대로 2469번길 57   1255   \n",
       "3  경기  용인시기흥구           아이언맨주유소         경기 용인시 기흥구 신갈로 13 (상갈동)   1264   \n",
       "4  경기  용인시기흥구  SK에너지㈜직영 기쁨셀프주유소  경기 용인시 기흥구 용구대로2469번길130 (보정동)   1265   \n",
       "\n",
       "         lat         lng  \n",
       "0  37.236377  127.104316  \n",
       "1  37.332592  127.104855  \n",
       "2  37.311753  127.104677  \n",
       "3  37.267812  127.105278  \n",
       "4  37.318326  127.105701  "
      ],
      "text/html": "<div>\n<style scoped>\n    .dataframe tbody tr th:only-of-type {\n        vertical-align: middle;\n    }\n\n    .dataframe tbody tr th {\n        vertical-align: top;\n    }\n\n    .dataframe thead th {\n        text-align: right;\n    }\n</style>\n<table border=\"1\" class=\"dataframe\">\n  <thead>\n    <tr style=\"text-align: right;\">\n      <th></th>\n      <th>광역</th>\n      <th>지역</th>\n      <th>상호</th>\n      <th>주소</th>\n      <th>price</th>\n      <th>lat</th>\n      <th>lng</th>\n    </tr>\n  </thead>\n  <tbody>\n    <tr>\n      <th>0</th>\n      <td>경기</td>\n      <td>용인시기흥구</td>\n      <td>㈜한미석유 기흥주유소/충전소</td>\n      <td>경기 용인시 기흥구 공세로 173</td>\n      <td>1242</td>\n      <td>37.236377</td>\n      <td>127.104316</td>\n    </tr>\n    <tr>\n      <th>1</th>\n      <td>경기</td>\n      <td>용인시수지구</td>\n      <td>서창산업㈜죽전(상)주유소</td>\n      <td>경기 용인시 수지구 경부고속도로 400</td>\n      <td>1245</td>\n      <td>37.332592</td>\n      <td>127.104855</td>\n    </tr>\n    <tr>\n      <th>2</th>\n      <td>경기</td>\n      <td>용인시기흥구</td>\n      <td>미키주유소</td>\n      <td>경기 용인시 기흥구  용구대로 2469번길 57</td>\n      <td>1255</td>\n      <td>37.311753</td>\n      <td>127.104677</td>\n    </tr>\n    <tr>\n      <th>3</th>\n      <td>경기</td>\n      <td>용인시기흥구</td>\n      <td>아이언맨주유소</td>\n      <td>경기 용인시 기흥구 신갈로 13 (상갈동)</td>\n      <td>1264</td>\n      <td>37.267812</td>\n      <td>127.105278</td>\n    </tr>\n    <tr>\n      <th>4</th>\n      <td>경기</td>\n      <td>용인시기흥구</td>\n      <td>SK에너지㈜직영 기쁨셀프주유소</td>\n      <td>경기 용인시 기흥구 용구대로2469번길130 (보정동)</td>\n      <td>1265</td>\n      <td>37.318326</td>\n      <td>127.105701</td>\n    </tr>\n  </tbody>\n</table>\n</div>"
     },
     "metadata": {},
     "execution_count": 30
    }
   ],
   "source": [
    "df['lat'] = lat_list\n",
    "df['lng'] = lng_list\n",
    "df.head()"
   ]
  },
  {
   "cell_type": "code",
   "execution_count": 31,
   "metadata": {},
   "outputs": [],
   "source": [
    "df.to_csv('주유소3.csv', sep=',', encoding='utf8', index=False)"
   ]
  },
  {
   "source": [
    "### 주유소 정보 지도위에 표시하기"
   ],
   "cell_type": "markdown",
   "metadata": {}
  },
  {
   "cell_type": "code",
   "execution_count": 32,
   "metadata": {},
   "outputs": [],
   "source": [
    "import folium\n",
    "\n",
    "df = pd.read_csv('주유소3.csv')"
   ]
  },
  {
   "cell_type": "code",
   "execution_count": 38,
   "metadata": {},
   "outputs": [
    {
     "output_type": "execute_result",
     "data": {
      "text/plain": [
       "<folium.folium.Map at 0x1dd40795e88>"
      ],
      "text/html": "<div style=\"width:100%;\"><div style=\"position:relative;width:100%;height:0;padding-bottom:60%;\"><span style=\"color:#565656\">Make this Notebook Trusted to load map: File -> Trust Notebook</span><iframe src=\"about:blank\" style=\"position:absolute;width:100%;height:100%;left:0;top:0;border:none !important;\" data-html=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 onload=\"this.contentDocument.open();this.contentDocument.write(atob(this.getAttribute('data-html')));this.contentDocument.close();\" allowfullscreen webkitallowfullscreen mozallowfullscreen></iframe></div></div>"
     },
     "metadata": {},
     "execution_count": 38
    }
   ],
   "source": [
    "df['color'] = ['red' if i < 5 else 'blue' for i in range(20)]\n",
    "df['icon'] = ['thumbs-up' if i == 0 else 'tint' for i in range(20)]\n",
    "map = folium.Map(location=[my_lat, my_lng], zoom_start=12)\n",
    "folium.Marker(location=[my_lat, my_lng], icon=folium.Icon(icon='home', color='green')).add_to(map)\n",
    "for i in df.index:\n",
    "    folium.Marker(\n",
    "        location=[df.lat[i], df.lng[i]],\n",
    "        popup=df['상호'][i],\n",
    "        tooltip=f\"{df['상호'][i]}: {df.price[i]}\",\n",
    "        icon=folium.Icon(icon=df.icon[i], color=df.color[i])\n",
    "    ).add_to(map)\n",
    "map"
   ]
  },
  {
   "cell_type": "code",
   "execution_count": null,
   "metadata": {},
   "outputs": [],
   "source": []
  }
 ]
}